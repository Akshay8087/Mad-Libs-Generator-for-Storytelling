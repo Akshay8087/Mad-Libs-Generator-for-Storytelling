{
 "cells": [
  {
   "cell_type": "code",
   "execution_count": null,
   "id": "d2fb8985-699e-4af3-a3f0-dcef51c8e8a3",
   "metadata": {},
   "outputs": [],
   "source": [
    "# Extended Mad Libs Generator for Storytelling\n",
    "\n",
    "print(\"Welcome to the Adventure Story Mad Libs!\")\n",
    "\n",
    "# Getting user inputs\n",
    "hero_name = input(\"Enter the hero's name: \")\n",
    "magical_creature = input(\"Enter a type of magical creature: \")\n",
    "place = input(\"Enter a mystical place: \")\n",
    "object = input(\"Enter a magical object: \")\n",
    "villain = input(\"Enter a villain's name: \")\n",
    "action = input(\"Enter an action (base form of the verb, e.g., 'run'): \")\n",
    "\n",
    "# Building the story\n",
    "story = f\"\"\"\n",
    "Once upon a time, in a far-off kingdom, there lived a hero named {hero_name}. {hero_name} was known across the lands for their bravery and kindness. One day, a {magical_creature} visited {hero_name} and spoke of a great peril threatening the {place}.\n",
    "\n",
    "\"The only way to save the {place} is to find the {object},\" the {magical_creature} explained. \"But beware, for the wicked {villain} guards it closely.\"\n",
    "\n",
    "Determined to save their home, {hero_name} embarked on a perilous journey. After days of travel and facing numerous challenges, {hero_name} finally reached the villain's lair. Using their wit and strength to {action} past the guards, {hero_name} confronted {villain}.\n",
    "\n",
    "A fierce battle ensued, but in the end, {hero_name} emerged victorious. With the {object} in hand, they returned to the {place}, hailed as a hero. Peace and prosperity reigned once again, all thanks to the brave {hero_name}.\n",
    "\"\"\"\n",
    "\n",
    "# Displaying the story\n",
    "print(story)\n"
   ]
  }
 ],
 "metadata": {
  "kernelspec": {
   "display_name": "Python 3 (ipykernel)",
   "language": "python",
   "name": "python3"
  },
  "language_info": {
   "codemirror_mode": {
    "name": "ipython",
    "version": 3
   },
   "file_extension": ".py",
   "mimetype": "text/x-python",
   "name": "python",
   "nbconvert_exporter": "python",
   "pygments_lexer": "ipython3",
   "version": "3.12.2"
  }
 },
 "nbformat": 4,
 "nbformat_minor": 5
}
